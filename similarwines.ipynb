{
 "cells": [
  {
   "cell_type": "markdown",
   "metadata": {},
   "source": [
    "#  Similar Wines"
   ]
  },
  {
   "cell_type": "markdown",
   "metadata": {},
   "source": [
    "This notebook will use wine review dataset (https://www.kaggle.com/zynicide/wine-reviews) for finding similarities between several wines.\n",
    "\n",
    "For this we will use text features present in the dataset (description and variety) as well as value features (review score and price tag).\n",
    "\n",
    "\n",
    "### 1. Loading the dependencies\n",
    "\n",
    "For this we will need Pandas to perform a cleaning and transform columns of the dataset, Numpy for NumPy arrays and finally sklearn for building our model.\n"
   ]
  },
  {
   "cell_type": "code",
   "execution_count": 1,
   "metadata": {},
   "outputs": [
    {
     "name": "stdout",
     "output_type": "stream",
     "text": [
      "   row   country                                        description  \\\n",
      "0    0     Italy  Aromas include tropical fruit, broom, brimston...   \n",
      "1    1  Portugal  This is ripe and fruity, a wine that is smooth...   \n",
      "2    2        US  Tart and snappy, the flavors of lime flesh and...   \n",
      "3    3        US  Pineapple rind, lemon pith and orange blossom ...   \n",
      "4    4        US  Much like the regular bottling from 2012, this...   \n",
      "\n",
      "                          designation  points  price           province  \\\n",
      "0                        Vulkà Bianco      87    NaN  Sicily & Sardinia   \n",
      "1                            Avidagos      87   15.0              Douro   \n",
      "2                                 NaN      87   14.0             Oregon   \n",
      "3                Reserve Late Harvest      87   13.0           Michigan   \n",
      "4  Vintner's Reserve Wild Child Block      87   65.0             Oregon   \n",
      "\n",
      "              region_1           region_2         taster_name  \\\n",
      "0                 Etna                NaN       Kerin O’Keefe   \n",
      "1                  NaN                NaN          Roger Voss   \n",
      "2    Willamette Valley  Willamette Valley        Paul Gregutt   \n",
      "3  Lake Michigan Shore                NaN  Alexander Peartree   \n",
      "4    Willamette Valley  Willamette Valley        Paul Gregutt   \n",
      "\n",
      "  taster_twitter_handle                                              title  \\\n",
      "0          @kerinokeefe                  Nicosia 2013 Vulkà Bianco  (Etna)   \n",
      "1            @vossroger      Quinta dos Avidagos 2011 Avidagos Red (Douro)   \n",
      "2           @paulgwine       Rainstorm 2013 Pinot Gris (Willamette Valley)   \n",
      "3                   NaN  St. Julian 2013 Reserve Late Harvest Riesling ...   \n",
      "4           @paulgwine   Sweet Cheeks 2012 Vintner's Reserve Wild Child...   \n",
      "\n",
      "          variety               winery  \n",
      "0     White Blend              Nicosia  \n",
      "1  Portuguese Red  Quinta dos Avidagos  \n",
      "2      Pinot Gris            Rainstorm  \n",
      "3        Riesling           St. Julian  \n",
      "4      Pinot Noir         Sweet Cheeks  \n"
     ]
    }
   ],
   "source": [
    "import pandas as pd\n",
    "import numpy as np\n",
    "import matplotlib.pyplot as plt\n",
    "from sklearn.cluster import KMeans\n",
    "from sklearn.model_selection import train_test_split\n",
    "from sklearn.feature_extraction.text import CountVectorizer\n",
    "from sklearn.preprocessing import StandardScaler\n",
    "from sklearn.decomposition import PCA\n",
    "\n",
    "df = pd.read_csv('datasets/winemag-data.csv')\n",
    "\n",
    "# Print the first five to check if the dataframe was correctly loaded\n",
    "print(df.head())"
   ]
  },
  {
   "cell_type": "markdown",
   "metadata": {},
   "source": [
    "\n",
    "\n",
    "### 2. Remove unwanted columns\n",
    "\n",
    "Since the purpose of this notebook is to cluster wines by their similarities, we remove columns that are not of our interest"
   ]
  },
  {
   "cell_type": "code",
   "execution_count": 2,
   "metadata": {},
   "outputs": [
    {
     "name": "stdout",
     "output_type": "stream",
     "text": [
      "                                               title   country  \\\n",
      "0                  Nicosia 2013 Vulkà Bianco  (Etna)     Italy   \n",
      "1      Quinta dos Avidagos 2011 Avidagos Red (Douro)  Portugal   \n",
      "2      Rainstorm 2013 Pinot Gris (Willamette Valley)        US   \n",
      "3  St. Julian 2013 Reserve Late Harvest Riesling ...        US   \n",
      "4  Sweet Cheeks 2012 Vintner's Reserve Wild Child...        US   \n",
      "\n",
      "            province  points  price  \\\n",
      "0  Sicily & Sardinia      87    NaN   \n",
      "1              Douro      87   15.0   \n",
      "2             Oregon      87   14.0   \n",
      "3           Michigan      87   13.0   \n",
      "4             Oregon      87   65.0   \n",
      "\n",
      "                                         description         variety  \n",
      "0  Aromas include tropical fruit, broom, brimston...     White Blend  \n",
      "1  This is ripe and fruity, a wine that is smooth...  Portuguese Red  \n",
      "2  Tart and snappy, the flavors of lime flesh and...      Pinot Gris  \n",
      "3  Pineapple rind, lemon pith and orange blossom ...        Riesling  \n",
      "4  Much like the regular bottling from 2012, this...      Pinot Noir  \n"
     ]
    }
   ],
   "source": [
    "cols_to_remove = ['row', 'region_1', 'region_2', 'taster_name', 'taster_twitter_handle', 'winery', 'designation']\n",
    "\n",
    "df.drop(cols_to_remove, inplace=True, axis='columns')\n",
    "\n",
    "# Reorder the dataframe in order to keep the columns of evaluation in the end\n",
    "df = df.reindex(columns=['title', 'country', 'province', 'points', 'price', 'description', 'variety'])\n",
    "\n",
    "# Display the shorter dataframe\n",
    "print(df.head())"
   ]
  },
  {
   "cell_type": "markdown",
   "metadata": {},
   "source": [
    "\n",
    "### 3. Cleaning and optimizing the dataframe\n",
    "\n",
    "Now our dataframe is shorter, title will be used for identifying the wines after we implement the model, remaining columns will be used for feature evaluation.\n",
    "\n",
    "First we need to see if we have null values, and if that's the case, deal with them"
   ]
  },
  {
   "cell_type": "code",
   "execution_count": 3,
   "metadata": {},
   "outputs": [
    {
     "name": "stdout",
     "output_type": "stream",
     "text": [
      "title             0\n",
      "country          63\n",
      "province         63\n",
      "points            0\n",
      "price          8996\n",
      "description       0\n",
      "variety           1\n",
      "dtype: int64\n"
     ]
    }
   ],
   "source": [
    "print(df.isnull().sum())"
   ]
  },
  {
   "cell_type": "markdown",
   "metadata": {},
   "source": [
    "From this sample we can see that there are 63 samples with no region/country, 1 without variety and nearly 9k of null prices.\n",
    "\n",
    "For the first three, we drop those samples, the numbers are quite small to make a difference"
   ]
  },
  {
   "cell_type": "code",
   "execution_count": 4,
   "metadata": {},
   "outputs": [
    {
     "name": "stdout",
     "output_type": "stream",
     "text": [
      "title             0\n",
      "country           0\n",
      "province          0\n",
      "points            0\n",
      "price          8992\n",
      "description       0\n",
      "variety           0\n",
      "dtype: int64\n"
     ]
    }
   ],
   "source": [
    "df.dropna(subset=['province', 'country', 'variety'], inplace=True)\n",
    "\n",
    "# We check again to see how many do we have left with null values\n",
    "print(df.isnull().sum())"
   ]
  },
  {
   "cell_type": "markdown",
   "metadata": {},
   "source": [
    "\n",
    "The price represents around 6%, which makes a reasonable amount of data to just simply throw away, we need to impute a value to price so we can use it properly.\n",
    "\n",
    "Let's check the range of prices available"
   ]
  },
  {
   "cell_type": "code",
   "execution_count": 5,
   "metadata": {},
   "outputs": [
    {
     "name": "stdout",
     "output_type": "stream",
     "text": [
      "count    120915.000000\n",
      "mean         35.368796\n",
      "std          41.031188\n",
      "min           4.000000\n",
      "25%          17.000000\n",
      "50%          25.000000\n",
      "75%          42.000000\n",
      "max        3300.000000\n",
      "Name: price, dtype: float64\n"
     ]
    }
   ],
   "source": [
    "print(df['price'].describe())"
   ]
  },
  {
   "cell_type": "markdown",
   "metadata": {},
   "source": [
    "\n",
    "Here we can see that price ranges from 4 to 3300\\\\$, but the average a price of 35\\\\$, but wine price tends to varying from country to country, so let's see if this average value matchs the average per country"
   ]
  },
  {
   "cell_type": "code",
   "execution_count": 6,
   "metadata": {},
   "outputs": [
    {
     "name": "stdout",
     "output_type": "stream",
     "text": [
      "country\n",
      "Argentina                 24.510117\n",
      "Armenia                   14.500000\n",
      "Australia                 35.437663\n",
      "Austria                   30.762772\n",
      "Bosnia and Herzegovina    12.500000\n",
      "Brazil                    23.765957\n",
      "Bulgaria                  14.645390\n",
      "Canada                    35.712598\n",
      "Chile                     20.787316\n",
      "China                     18.000000\n",
      "Croatia                   25.450704\n",
      "Cyprus                    16.272727\n",
      "Czech Republic            24.250000\n",
      "Egypt                           NaN\n",
      "England                   51.681159\n",
      "France                    41.139120\n",
      "Georgia                   19.321429\n",
      "Germany                   42.257547\n",
      "Greece                    22.364425\n",
      "Hungary                   40.648276\n",
      "India                     13.333333\n",
      "Israel                    31.768916\n",
      "Italy                     39.663770\n",
      "Lebanon                   30.685714\n",
      "Luxembourg                23.333333\n",
      "Macedonia                 15.583333\n",
      "Mexico                    26.785714\n",
      "Moldova                   16.745763\n",
      "Morocco                   19.500000\n",
      "New Zealand               26.931785\n",
      "Peru                      18.062500\n",
      "Portugal                  26.218256\n",
      "Romania                   15.241667\n",
      "Serbia                    24.500000\n",
      "Slovakia                  16.000000\n",
      "Slovenia                  24.812500\n",
      "South Africa              24.668987\n",
      "Spain                     28.215275\n",
      "Switzerland               85.285714\n",
      "Turkey                    24.633333\n",
      "US                        36.573464\n",
      "Ukraine                    9.214286\n",
      "Uruguay                   26.403670\n",
      "Name: price, dtype: float64\n"
     ]
    }
   ],
   "source": [
    "df_price_per_country = df.groupby('country')['price'].mean()\n",
    "\n",
    "print(df_price_per_country)"
   ]
  },
  {
   "cell_type": "code",
   "execution_count": 7,
   "metadata": {},
   "outputs": [
    {
     "name": "stdout",
     "output_type": "stream",
     "text": [
      "title          0\n",
      "country        0\n",
      "province       0\n",
      "points         0\n",
      "price          0\n",
      "description    0\n",
      "variety        0\n",
      "dtype: int64\n"
     ]
    }
   ],
   "source": [
    "countries = df['country'].unique()\n",
    "\n",
    "# For each country we fill null values with its respective price average (calculated above)\n",
    "for country in df['country'].unique():\n",
    "    avg_price = df_price_per_country[country]\n",
    "    \n",
    "    if np.isnan(avg_price):\n",
    "        avg_price = 0\n",
    "\n",
    "    df.loc[(df['country'] == country) & (df['price'].isnull()), 'price'] = avg_price\n",
    "    \n",
    "print(df.isnull().sum())"
   ]
  },
  {
   "cell_type": "markdown",
   "metadata": {},
   "source": [
    "\n",
    "Empty values are now taken care of, now we need to optimize the dataset, since and prepare them for feature extraction, one way is to convert a low variance level of value columns to categories, not only will improve memory but will help when converting to features."
   ]
  },
  {
   "cell_type": "code",
   "execution_count": 8,
   "metadata": {},
   "outputs": [
    {
     "name": "stdout",
     "output_type": "stream",
     "text": [
      "<class 'pandas.core.frame.DataFrame'>\n",
      "Int64Index: 129907 entries, 0 to 129970\n",
      "Data columns (total 7 columns):\n",
      "title          129907 non-null object\n",
      "country        129907 non-null object\n",
      "province       129907 non-null object\n",
      "points         129907 non-null int64\n",
      "price          129907 non-null float64\n",
      "description    129907 non-null object\n",
      "variety        129907 non-null object\n",
      "dtypes: float64(1), int64(1), object(5)\n",
      "memory usage: 7.9+ MB\n",
      "None\n"
     ]
    }
   ],
   "source": [
    "print(df.info())"
   ]
  },
  {
   "cell_type": "markdown",
   "metadata": {},
   "source": [
    "Another aspect that may be optimized is the review score, let's see the value interval for points is betwen 80 and 100, which can be converted to a int8 instead of int64"
   ]
  },
  {
   "cell_type": "code",
   "execution_count": 9,
   "metadata": {},
   "outputs": [
    {
     "name": "stdout",
     "output_type": "stream",
     "text": [
      "count    129907.000000\n",
      "mean         88.447051\n",
      "std           3.040078\n",
      "min          80.000000\n",
      "25%          86.000000\n",
      "50%          88.000000\n",
      "75%          91.000000\n",
      "max         100.000000\n",
      "Name: points, dtype: float64\n",
      "<class 'pandas.core.frame.DataFrame'>\n",
      "Int64Index: 129907 entries, 0 to 129970\n",
      "Data columns (total 7 columns):\n",
      "title          129907 non-null object\n",
      "country        129907 non-null object\n",
      "province       129907 non-null object\n",
      "points         129907 non-null int8\n",
      "price          129907 non-null float64\n",
      "description    129907 non-null object\n",
      "variety        129907 non-null object\n",
      "dtypes: float64(1), int8(1), object(5)\n",
      "memory usage: 7.1+ MB\n",
      "None\n"
     ]
    }
   ],
   "source": [
    "print(df['points'].describe())\n",
    "\n",
    "df['points'] = df['points'].astype('int8')\n",
    "\n",
    "print(df.info())"
   ]
  },
  {
   "cell_type": "code",
   "execution_count": 10,
   "metadata": {},
   "outputs": [
    {
     "data": {
      "text/plain": [
       "title          118780\n",
       "country            43\n",
       "province          425\n",
       "points             21\n",
       "price             412\n",
       "description    119895\n",
       "variety           701\n",
       "dtype: int64"
      ]
     },
     "execution_count": 10,
     "metadata": {},
     "output_type": "execute_result"
    }
   ],
   "source": [
    "\n",
    "# Check how many unique values are in all columns\n",
    "df.nunique()"
   ]
  },
  {
   "cell_type": "markdown",
   "metadata": {},
   "source": [
    "We can clearly categorize countries, province and variety as we have less than a 1000 possible choices for each, and our sample has more than 120k entries"
   ]
  },
  {
   "cell_type": "code",
   "execution_count": 11,
   "metadata": {},
   "outputs": [
    {
     "name": "stdout",
     "output_type": "stream",
     "text": [
      "<class 'pandas.core.frame.DataFrame'>\n",
      "Int64Index: 129907 entries, 0 to 129970\n",
      "Data columns (total 7 columns):\n",
      "title          129907 non-null object\n",
      "country        129907 non-null category\n",
      "province       129907 non-null category\n",
      "points         129907 non-null int8\n",
      "price          129907 non-null float64\n",
      "description    129907 non-null object\n",
      "variety        129907 non-null category\n",
      "dtypes: category(3), float64(1), int8(1), object(2)\n",
      "memory usage: 4.8+ MB\n"
     ]
    }
   ],
   "source": [
    "category_columns = ['country','province','variety']\n",
    "\n",
    "for column in category_columns:\n",
    "    df[column] = df[column].astype('category')\n",
    "\n",
    "df.info()"
   ]
  },
  {
   "cell_type": "markdown",
   "metadata": {},
   "source": [
    "We are using less memory now, and our dataset is now cleared for the next step"
   ]
  },
  {
   "cell_type": "markdown",
   "metadata": {},
   "source": [
    "\n",
    "\n",
    "### 4. Extracting features\n",
    "\n",
    "We want to use text words present in description, variety, country and province for evaluation in the clustering model, we achieve this by using CountVectorizer.\n",
    "\n",
    "Imagine we have 2 samples with the following information\n",
    "\n",
    "| Sample | Text |\n",
    "|------|------|\n",
    "| Joe | One dog and a cat |\n",
    "| Jane | Five fishes and a cat |\n",
    "\n",
    "Our vectorizer will perform a tokeneziation, count the occurances and remove single characters that provide linkage, resulting in something like this\n",
    "\n",
    "| Sample | one | dog | and | cat | five | fishes |\n",
    "|------|------|------|------|------|------|------|\n",
    "| Joe | 1 | 1 | 1 | 1 | 0 | 0 |\n",
    "| Jane | 0 | 0 | 1 | 1 | 1 | 1 |\n",
    "\n",
    "\n",
    "\n",
    "\n",
    "\n",
    "We need to address in our bag of words, the first is to retain only words that are present in in more than a few documents (like 0.5% of our sample).\n",
    "\n",
    "The other is to remove stop words, these are some of the words(the, that, it, etc) these do not provide any value, we will use Scikit's english stop words"
   ]
  },
  {
   "cell_type": "code",
   "execution_count": 12,
   "metadata": {},
   "outputs": [
    {
     "name": "stdout",
     "output_type": "stream",
     "text": [
      "(129907, 762)\n"
     ]
    }
   ],
   "source": [
    "columns_to_merge = ['description', 'variety' ]\n",
    "\n",
    "# We need to merge the columns with the strings we want to evaluate into just one\n",
    "features_df = df\n",
    "features_df['text'] = features_df[columns_to_merge].apply(lambda x: ' '.join(x), axis=1)\n",
    "features_df.drop(columns_to_merge, axis=1, inplace=True)\n",
    "\n",
    "vectorizer = CountVectorizer(min_df=0.005, stop_words='english')\n",
    "\n",
    "matrix = vectorizer.fit_transform(features_df['text'].values)\n",
    "\n",
    "text_features = pd.DataFrame(matrix.toarray(), columns=vectorizer.get_feature_names())\n",
    "\n",
    "# We need to reset the index in order to avoid mismatch in columns concatenating\n",
    "features_df.reset_index(drop=True, inplace=True)\n",
    "text_features.reset_index(drop=True, inplace=True)\n",
    "\n",
    "vectorized_df = pd.concat([features_df, text_features], axis=1)\n",
    "\n",
    "vectorized_df.drop('text', axis=1, inplace=True)\n",
    "\n",
    "print(vectorized_df.shape)\n",
    "\n",
    "del features_df\n"
   ]
  },
  {
   "cell_type": "markdown",
   "metadata": {},
   "source": [
    "\n",
    "\n",
    "### 5. Scaling the values\n",
    "\n",
    "Now that our dataframe as the features extracted, we need to scale our dataset, more accurately, we want to normalize our values so that the stay around 0.\n",
    "\n",
    "This feature allows us to avoid the model to consider one feature over the other if the range of values if quite different.\n",
    "\n",
    "Imagine a feature for a word (example: fruity) which can happen per sample, one or 2 times, now it's price may be somewhat 30, and it's review with score of 80. \n",
    "Which makes the review or price the most relevant features. In this specific case, it's not desired.\n"
   ]
  },
  {
   "cell_type": "code",
   "execution_count": 13,
   "metadata": {},
   "outputs": [],
   "source": [
    "scaler = StandardScaler()\n",
    "\n",
    "# We get all columns except title, country and region (which serve for labeling purposes)\n",
    "features = vectorized_df.iloc[:, 3:-1]\n",
    "\n",
    "new_features = scaler.fit_transform(features.values)\n"
   ]
  },
  {
   "cell_type": "markdown",
   "metadata": {},
   "source": [
    "\n",
    "### 6. Dimensional Reduction\n",
    "\n",
    "Now that our values are more standardized, we can see that we have a great number of features (Columns of our feature array).\n",
    "\n",
    "This number makes hard for visualization our the correlation between groups and harder for clustering. We'll use PCA for dimensional reduction"
   ]
  },
  {
   "cell_type": "code",
   "execution_count": 14,
   "metadata": {},
   "outputs": [
    {
     "name": "stdout",
     "output_type": "stream",
     "text": [
      "(129907, 2)\n",
      "(129907, 5)\n"
     ]
    }
   ],
   "source": [
    "pca = PCA(n_components=2)\n",
    "\n",
    "reduced_featured = pca.fit_transform(new_features)\n",
    "\n",
    "print(reduced_featured.shape)\n",
    "\n",
    "# Join the dataframe with the labels\n",
    "reduced_features_df = pd.DataFrame(reduced_featured, columns=['PCA1', 'PCA2'])\n",
    "\n",
    "wine_df = pd.concat([vectorized_df[['title', 'country', 'province']], reduced_features_df], axis=1)\n",
    "\n",
    "print(wine_df.shape)\n",
    "\n",
    "del reduced_features_df"
   ]
  },
  {
   "cell_type": "markdown",
   "metadata": {},
   "source": [
    "\n",
    "Let's try to visualize a sample of those wines using a scatter plot. we'll choose a subset of Portuguese wines for testing purposes."
   ]
  },
  {
   "cell_type": "code",
   "execution_count": 15,
   "metadata": {},
   "outputs": [
    {
     "name": "stdout",
     "output_type": "stream",
     "text": [
      "                                                 title   country    province  \\\n",
      "1        Quinta dos Avidagos 2011 Avidagos Red (Douro)  Portugal       Douro   \n",
      "79   Adega Cooperativa do Cartaxo 2014 Bridão Touri...  Portugal        Tejo   \n",
      "151  Herdade Grande 2014 Gerações Colheita Seleccio...  Portugal  Alentejano   \n",
      "157  Casa Santa Vitória 2013 Grande Reserva Tinto R...  Portugal  Alentejano   \n",
      "203  Adega Cooperativa de Borba 2012 Montes Claros ...  Portugal    Alentejo   \n",
      "\n",
      "         PCA1      PCA2  \n",
      "1   -0.077860  4.160685  \n",
      "79  -0.070440  1.773070  \n",
      "151 -2.376927  6.620137  \n",
      "157  1.296746  5.684113  \n",
      "203 -0.467202  4.779182  \n"
     ]
    },
    {
     "data": {
      "text/plain": [
       "<matplotlib.legend.Legend at 0x24da17cd8d0>"
      ]
     },
     "execution_count": 15,
     "metadata": {},
     "output_type": "execute_result"
    },
    {
     "data": {
      "image/png": "[encoded data removed]",
      "text/plain": [
       "<Figure size 432x288 with 1 Axes>"
      ]
     },
     "metadata": {
      "needs_background": "light"
     },
     "output_type": "display_data"
    }
   ],
   "source": [
    "%matplotlib inline\n",
    "\n",
    "sample_df = wine_df[wine_df['country'] == \"Portugal\"].head(15)\n",
    "#sample_df.sort_values(['PCA1', 'PCA2'])\n",
    "\n",
    "print(sample_df.head(5))\n",
    "\n",
    "fig, ax = plt.subplots()\n",
    "\n",
    "labels = sample_df['title'].values\n",
    "x = sample_df['PCA1'].values\n",
    "y = sample_df['PCA2'].values\n",
    "\n",
    "index = 0\n",
    "legend = []\n",
    "for label in labels:\n",
    "    plt.scatter(x[index], y[index], label=label)\n",
    "    index += 1\n",
    "    \n",
    "ax.legend(loc='center left', bbox_to_anchor=(1, 0.5))\n"
   ]
  },
  {
   "cell_type": "markdown",
   "metadata": {},
   "source": [
    "Looking at the plot above there are a few things that come out, first is that it seems to have separated more the red wines from rosé and whites (since the taste of red and white wines are different), this largely is due to the factors taken into account by reviews."
   ]
  },
  {
   "cell_type": "markdown",
   "metadata": {},
   "source": [
    "\n",
    "\n",
    "### 7. Clustering\n",
    "\n",
    "Now we begin by clustering our data, this section will focus on training our clustering models and evaluating how good it performs and finally, test it with some data.\n",
    "\n",
    "We will use K-Means for clutering, this unsupervised model is quite popular and easy to use, but it has a downside, the number of clusters mas be specified at the beginning.\n",
    "\n",
    "Since we don't know the ideal number, we will have to run several iterations to find an ideal one."
   ]
  },
  {
   "cell_type": "code",
   "execution_count": 16,
   "metadata": {},
   "outputs": [
    {
     "data": {
      "image/png": "[encoded data removed]",
      "text/plain": [
       "<Figure size 432x288 with 1 Axes>"
      ]
     },
     "metadata": {
      "needs_background": "light"
     },
     "output_type": "display_data"
    }
   ],
   "source": [
    "iteration_inertias = []\n",
    "\n",
    "features = wine_df.values[:,3:]\n",
    "\n",
    "clusters = range(1,15)\n",
    "\n",
    "for cluster in clusters:\n",
    "    kmeans = KMeans(n_clusters=cluster)\n",
    "    \n",
    "    kmeans.fit(features)\n",
    "    \n",
    "    iteration_inertias.append(kmeans.inertia_)\n",
    "\n",
    "_ = plt.plot(iteration_inertias)\n",
    "_ = plt.xlabel(\"No. Clusters\")\n",
    "_ = plt.ylabel(\"Inertia\")\n"
   ]
  },
  {
   "cell_type": "markdown",
   "metadata": {},
   "source": [
    "As we can see, the curve begins to descend more slowly at 5 clusters, which is our optimal number"
   ]
  },
  {
   "cell_type": "code",
   "execution_count": 17,
   "metadata": {},
   "outputs": [],
   "source": [
    "kmeans = KMeans(n_clusters=5)\n",
    "    \n",
    "kmeans.fit(features)\n",
    "\n",
    "# Create a new dataframe with the cluster group\n",
    "clustered_df = pd.DataFrame(kmeans.labels_, columns=['group'])\n",
    "\n",
    "wine_df = pd.concat([wine_df[['title', 'country', 'province']], clustered_df], axis=1)\n",
    "\n",
    "del clustered_df\n",
    "\n"
   ]
  },
  {
   "cell_type": "markdown",
   "metadata": {},
   "source": [
    "\n",
    "\n",
    "### 8. Checking similar wines\n",
    "\n",
    "Now that we have the model set and fitted, now it's time to test our clustering, we will pick a wine and determine other wines that fall into the same group. It's an example of how we would use this for production.\n"
   ]
  },
  {
   "cell_type": "code",
   "execution_count": 26,
   "metadata": {},
   "outputs": [
    {
     "data": {
      "text/html": [
       "<div>\n",
       "<style scoped>\n",
       "    .dataframe tbody tr th:only-of-type {\n",
       "        vertical-align: middle;\n",
       "    }\n",
       "\n",
       "    .dataframe tbody tr th {\n",
       "        vertical-align: top;\n",
       "    }\n",
       "\n",
       "    .dataframe thead th {\n",
       "        text-align: right;\n",
       "    }\n",
       "</style>\n",
       "<table border=\"1\" class=\"dataframe\">\n",
       "  <thead>\n",
       "    <tr style=\"text-align: right;\">\n",
       "      <th></th>\n",
       "      <th>title</th>\n",
       "      <th>country</th>\n",
       "      <th>province</th>\n",
       "      <th>group</th>\n",
       "    </tr>\n",
       "  </thead>\n",
       "  <tbody>\n",
       "    <tr>\n",
       "      <th>111496</th>\n",
       "      <td>Vidigal 2010 Red (Douro)</td>\n",
       "      <td>Portugal</td>\n",
       "      <td>Douro</td>\n",
       "      <td>3</td>\n",
       "    </tr>\n",
       "    <tr>\n",
       "      <th>104334</th>\n",
       "      <td>Poças 2005 Vale de Cavalhos Red (Douro)</td>\n",
       "      <td>Portugal</td>\n",
       "      <td>Douro</td>\n",
       "      <td>3</td>\n",
       "    </tr>\n",
       "    <tr>\n",
       "      <th>40151</th>\n",
       "      <td>Niepoort 2014 Vertente Red (Douro)</td>\n",
       "      <td>Portugal</td>\n",
       "      <td>Douro</td>\n",
       "      <td>3</td>\n",
       "    </tr>\n",
       "    <tr>\n",
       "      <th>109053</th>\n",
       "      <td>Casca Wines 2009 Cape Roca Boat Red (Douro)</td>\n",
       "      <td>Portugal</td>\n",
       "      <td>Douro</td>\n",
       "      <td>3</td>\n",
       "    </tr>\n",
       "    <tr>\n",
       "      <th>66772</th>\n",
       "      <td>Companhia das Quintas 2011 Quinta da Fronteira...</td>\n",
       "      <td>Portugal</td>\n",
       "      <td>Douro</td>\n",
       "      <td>3</td>\n",
       "    </tr>\n",
       "    <tr>\n",
       "      <th>86994</th>\n",
       "      <td>Solar de Cambres 2011 Casa de Cambres Reserva ...</td>\n",
       "      <td>Portugal</td>\n",
       "      <td>Douro</td>\n",
       "      <td>3</td>\n",
       "    </tr>\n",
       "    <tr>\n",
       "      <th>78758</th>\n",
       "      <td>Ramos-Pinto 2014 Duas Quintas Reserva Red (Douro)</td>\n",
       "      <td>Portugal</td>\n",
       "      <td>Douro</td>\n",
       "      <td>3</td>\n",
       "    </tr>\n",
       "    <tr>\n",
       "      <th>74854</th>\n",
       "      <td>Wine &amp; Soul 2013 Pintas Red (Douro)</td>\n",
       "      <td>Portugal</td>\n",
       "      <td>Douro</td>\n",
       "      <td>3</td>\n",
       "    </tr>\n",
       "    <tr>\n",
       "      <th>58962</th>\n",
       "      <td>Quinta do Vallado 2013 Touriga Nacional (Douro)</td>\n",
       "      <td>Portugal</td>\n",
       "      <td>Douro</td>\n",
       "      <td>3</td>\n",
       "    </tr>\n",
       "    <tr>\n",
       "      <th>105666</th>\n",
       "      <td>Quinta Dona Matilde 2011 Red (Douro)</td>\n",
       "      <td>Portugal</td>\n",
       "      <td>Douro</td>\n",
       "      <td>3</td>\n",
       "    </tr>\n",
       "  </tbody>\n",
       "</table>\n",
       "</div>"
      ],
      "text/plain": [
       "                                                    title   country province  \\\n",
       "111496                           Vidigal 2010 Red (Douro)  Portugal    Douro   \n",
       "104334            Poças 2005 Vale de Cavalhos Red (Douro)  Portugal    Douro   \n",
       "40151                  Niepoort 2014 Vertente Red (Douro)  Portugal    Douro   \n",
       "109053        Casca Wines 2009 Cape Roca Boat Red (Douro)  Portugal    Douro   \n",
       "66772   Companhia das Quintas 2011 Quinta da Fronteira...  Portugal    Douro   \n",
       "86994   Solar de Cambres 2011 Casa de Cambres Reserva ...  Portugal    Douro   \n",
       "78758   Ramos-Pinto 2014 Duas Quintas Reserva Red (Douro)  Portugal    Douro   \n",
       "74854                 Wine & Soul 2013 Pintas Red (Douro)  Portugal    Douro   \n",
       "58962     Quinta do Vallado 2013 Touriga Nacional (Douro)  Portugal    Douro   \n",
       "105666               Quinta Dona Matilde 2011 Red (Douro)  Portugal    Douro   \n",
       "\n",
       "        group  \n",
       "111496      3  \n",
       "104334      3  \n",
       "40151       3  \n",
       "109053      3  \n",
       "66772       3  \n",
       "86994       3  \n",
       "78758       3  \n",
       "74854       3  \n",
       "58962       3  \n",
       "105666      3  "
      ]
     },
     "execution_count": 26,
     "metadata": {},
     "output_type": "execute_result"
    }
   ],
   "source": [
    "\n",
    "# We select the wine \"Enoport 2015 Tonel 22 Red (Douro)\" as the wine we want as reference\n",
    "our_wine = wine_df[wine_df['title'] == 'Enoport 2015 Tonel 22 Red (Douro)']\n",
    "\n",
    "province = our_wine['province'].iloc[0]\n",
    "group = our_wine['group'].iloc[0]\n",
    "\n",
    "# First we select similar wines from the same province\n",
    "same_province = wine_df[(wine_df['province'] == province) & (wine_df['group'] == group)].sample(10)\n",
    "same_province"
   ]
  },
  {
   "cell_type": "code",
   "execution_count": 28,
   "metadata": {},
   "outputs": [
    {
     "data": {
      "text/html": [
       "<div>\n",
       "<style scoped>\n",
       "    .dataframe tbody tr th:only-of-type {\n",
       "        vertical-align: middle;\n",
       "    }\n",
       "\n",
       "    .dataframe tbody tr th {\n",
       "        vertical-align: top;\n",
       "    }\n",
       "\n",
       "    .dataframe thead th {\n",
       "        text-align: right;\n",
       "    }\n",
       "</style>\n",
       "<table border=\"1\" class=\"dataframe\">\n",
       "  <thead>\n",
       "    <tr style=\"text-align: right;\">\n",
       "      <th></th>\n",
       "      <th>title</th>\n",
       "      <th>country</th>\n",
       "      <th>province</th>\n",
       "      <th>group</th>\n",
       "    </tr>\n",
       "  </thead>\n",
       "  <tbody>\n",
       "    <tr>\n",
       "      <th>24615</th>\n",
       "      <td>Ocone 2006 Vigna Pezza La Corte  (Aglianico de...</td>\n",
       "      <td>Italy</td>\n",
       "      <td>Southern Italy</td>\n",
       "      <td>3</td>\n",
       "    </tr>\n",
       "    <tr>\n",
       "      <th>97978</th>\n",
       "      <td>Domaine René Bouvier 2014 Les Longeroies  (Mar...</td>\n",
       "      <td>France</td>\n",
       "      <td>Burgundy</td>\n",
       "      <td>3</td>\n",
       "    </tr>\n",
       "    <tr>\n",
       "      <th>26156</th>\n",
       "      <td>Château Noël Les Charmes 2014  Blaye Côtes de ...</td>\n",
       "      <td>France</td>\n",
       "      <td>Bordeaux</td>\n",
       "      <td>3</td>\n",
       "    </tr>\n",
       "    <tr>\n",
       "      <th>100040</th>\n",
       "      <td>Vignerons de Buxy 2010 Buissonnier  (Côte Chal...</td>\n",
       "      <td>France</td>\n",
       "      <td>Burgundy</td>\n",
       "      <td>3</td>\n",
       "    </tr>\n",
       "    <tr>\n",
       "      <th>11044</th>\n",
       "      <td>Domaine Chiroulet 2011 Grande Réserve Red (Côt...</td>\n",
       "      <td>France</td>\n",
       "      <td>Southwest France</td>\n",
       "      <td>3</td>\n",
       "    </tr>\n",
       "    <tr>\n",
       "      <th>128438</th>\n",
       "      <td>J. Portugal Ramos 2005 Marquês de Borba Reserv...</td>\n",
       "      <td>Portugal</td>\n",
       "      <td>Alentejo</td>\n",
       "      <td>3</td>\n",
       "    </tr>\n",
       "    <tr>\n",
       "      <th>68555</th>\n",
       "      <td>Château d'Aydie 2008 Ode d'Aydie Tannat (Madiran)</td>\n",
       "      <td>France</td>\n",
       "      <td>Southwest France</td>\n",
       "      <td>3</td>\n",
       "    </tr>\n",
       "    <tr>\n",
       "      <th>25439</th>\n",
       "      <td>Glen Carlou 2004 Gravel Quarry Cabernet Sauvig...</td>\n",
       "      <td>South Africa</td>\n",
       "      <td>Paarl</td>\n",
       "      <td>3</td>\n",
       "    </tr>\n",
       "    <tr>\n",
       "      <th>60197</th>\n",
       "      <td>Dierberg 2009 Estate Grown Pinot Noir (Sta. Ri...</td>\n",
       "      <td>US</td>\n",
       "      <td>California</td>\n",
       "      <td>3</td>\n",
       "    </tr>\n",
       "    <tr>\n",
       "      <th>128629</th>\n",
       "      <td>Jacquesson et Fils NV Cuvée No 733 Brut  (Cham...</td>\n",
       "      <td>France</td>\n",
       "      <td>Champagne</td>\n",
       "      <td>3</td>\n",
       "    </tr>\n",
       "  </tbody>\n",
       "</table>\n",
       "</div>"
      ],
      "text/plain": [
       "                                                    title       country  \\\n",
       "24615   Ocone 2006 Vigna Pezza La Corte  (Aglianico de...         Italy   \n",
       "97978   Domaine René Bouvier 2014 Les Longeroies  (Mar...        France   \n",
       "26156   Château Noël Les Charmes 2014  Blaye Côtes de ...        France   \n",
       "100040  Vignerons de Buxy 2010 Buissonnier  (Côte Chal...        France   \n",
       "11044   Domaine Chiroulet 2011 Grande Réserve Red (Côt...        France   \n",
       "128438  J. Portugal Ramos 2005 Marquês de Borba Reserv...      Portugal   \n",
       "68555   Château d'Aydie 2008 Ode d'Aydie Tannat (Madiran)        France   \n",
       "25439   Glen Carlou 2004 Gravel Quarry Cabernet Sauvig...  South Africa   \n",
       "60197   Dierberg 2009 Estate Grown Pinot Noir (Sta. Ri...            US   \n",
       "128629  Jacquesson et Fils NV Cuvée No 733 Brut  (Cham...        France   \n",
       "\n",
       "                province  group  \n",
       "24615     Southern Italy      3  \n",
       "97978           Burgundy      3  \n",
       "26156           Bordeaux      3  \n",
       "100040          Burgundy      3  \n",
       "11044   Southwest France      3  \n",
       "128438          Alentejo      3  \n",
       "68555   Southwest France      3  \n",
       "25439              Paarl      3  \n",
       "60197         California      3  \n",
       "128629         Champagne      3  "
      ]
     },
     "execution_count": 28,
     "metadata": {},
     "output_type": "execute_result"
    }
   ],
   "source": [
    "\n",
    "# Now let's consider other regions that not the same one as above\n",
    "# First we select similar wines from the same province\n",
    "same_province = wine_df[~(wine_df['province'] == province) & (wine_df['group'] == group)].sample(10)\n",
    "same_province"
   ]
  },
  {
   "cell_type": "code",
   "execution_count": null,
   "metadata": {},
   "outputs": [],
   "source": []
  }
 ],
 "metadata": {
  "kernelspec": {
   "display_name": "Python 3",
   "language": "python",
   "name": "python3"
  },
  "language_info": {
   "codemirror_mode": {
    "name": "ipython",
    "version": 3
   },
   "file_extension": ".py",
   "mimetype": "text/x-python",
   "name": "python",
   "nbconvert_exporter": "python",
   "pygments_lexer": "ipython3",
   "version": "3.7.1"
  }
 },
 "nbformat": 4,
 "nbformat_minor": 4
}
